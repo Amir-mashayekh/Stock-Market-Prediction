{
 "cells": [
  {
   "cell_type": "code",
   "execution_count": null,
   "metadata": {},
   "outputs": [],
   "source": [
    "from math import gamma\n",
    "import pandas as pd\n",
    "import numpy as np\n",
    "import xgboost as xgb\n",
    "from sklearn.model_selection import train_test_split,GridSearchCV\n",
    "from sklearn.metrics import classification_report , mean_squared_error , make_scorer , f1_score , recall_score , precision_score , fbeta_score , confusion_matrix\n",
    "from matplotlib import pylab as plt\n",
    "from xgboost.sklearn import XGBClassifier\n",
    "from sklearn.preprocessing import StandardScaler"
   ]
  },
  {
   "cell_type": "code",
   "execution_count": null,
   "metadata": {},
   "outputs": [],
   "source": [
    "allData = pd.read_excel('Dataset.xlsx')"
   ]
  },
  {
   "cell_type": "code",
   "execution_count": null,
   "metadata": {},
   "outputs": [],
   "source": [
    "InsID = 38\n",
    "trainData_all = allData[allData['InstrumentID']==InsID].reset_index(drop=True)\n",
    "trainData_all = trainData_all.drop(['InstrumentID'] , axis = 1)\n",
    "trainData_all.fillna(0,inplace=True) "
   ]
  },
  {
   "cell_type": "code",
   "execution_count": null,
   "metadata": {},
   "outputs": [],
   "source": [
    "trainData = []\n",
    "trainData = trainData_all.loc[0:trainData_all.shape[0]-10,['AdjustedClosePrice','AdjustedOpenPrice','AdjustedHighPrice','AdjustedLowPrice',\n",
    "'EMA12','EMA21','EMA26','EMA50','EMA100','EMA200','EMA260','EMA365','MACD','MACDSignal','MACDGap',\n",
    "'LNAdjustedClosePrice','LNAdjustedRealClosePrice','LNAdjustedOpenPrice','LNAdjustedHighPrice','LNAdjustedLowPrice',]]\n",
    "Targets = trainData_all.loc[:trainData_all.shape[0]-10,['Target1']]\n",
    "print(trainData.shape)\n",
    "sc=StandardScaler()\n",
    "trainData = sc.fit_transform(trainData)\n",
    "indices = np.arange(trainData.shape[0])"
   ]
  },
  {
   "cell_type": "code",
   "execution_count": null,
   "metadata": {},
   "outputs": [],
   "source": [
    "train_size = int(0.9*trainData.shape[0])\n",
    "\n",
    "train_data = trainData[0:train_size]\n",
    "train_target = Targets[0:train_size]\n",
    "train_indices = indices[0:train_size]\n",
    "\n",
    "test_data = trainData[train_size:]\n",
    "test_target = Targets[train_size:]\n",
    "test_indices = indices[train_size:]"
   ]
  },
  {
   "cell_type": "code",
   "execution_count": null,
   "metadata": {},
   "outputs": [],
   "source": [
    "f_half = make_scorer(fbeta_score,beta = .2)"
   ]
  },
  {
   "cell_type": "code",
   "execution_count": null,
   "metadata": {},
   "outputs": [],
   "source": [
    "xgbc = xgb.XGBClassifier(learning_rate  = 1 ,\n",
    " reg_alpha = 0.01 ,\n",
    " reg_lambda = 0.01 ,\n",
    " num_parallel_tree = 200 , \n",
    " gamma  = 0.5 ,\n",
    " booster = 'gbtree' , \n",
    " colsample_bytree = 0.4 , \n",
    " random_state = 42 , \n",
    " verbosity = 0 ,\n",
    " use_label_encoder = False)\n",
    "Grid_params = [{'n_estimators' : [6 , 8 , 10],\n",
    "          'max_depth' : [8 , 11],\n",
    "                    }]"
   ]
  },
  {
   "cell_type": "code",
   "execution_count": null,
   "metadata": {},
   "outputs": [],
   "source": [
    "CV = GridSearchCV(xgbc,\n",
    "                  Grid_params,\n",
    "                  cv = 5,\n",
    "                  verbose = 1,\n",
    "                  scoring = f_half\n",
    "                  )"
   ]
  },
  {
   "cell_type": "code",
   "execution_count": null,
   "metadata": {},
   "outputs": [],
   "source": [
    "CV.fit(train_data,train_target)"
   ]
  },
  {
   "cell_type": "code",
   "execution_count": null,
   "metadata": {},
   "outputs": [],
   "source": [
    "print(CV.best_score_)\n",
    "Mod = CV.best_estimator_\n",
    "y_train = Mod.predict(train_data)\n",
    "y_test = Mod.predict(test_data)\n",
    "\n",
    "\n",
    "print(classification_report(train_target,y_train))\n",
    "print(classification_report(test_target,y_test))"
   ]
  }
 ],
 "metadata": {
  "interpreter": {
   "hash": "b3ba2566441a7c06988d0923437866b63cedc61552a5af99d1f4fb67d367b25f"
  },
  "kernelspec": {
   "display_name": "Python 3.9.7 ('base')",
   "language": "python",
   "name": "python3"
  },
  "language_info": {
   "codemirror_mode": {
    "name": "ipython",
    "version": 3
   },
   "file_extension": ".py",
   "mimetype": "text/x-python",
   "name": "python",
   "nbconvert_exporter": "python",
   "pygments_lexer": "ipython3",
   "version": "3.9.7"
  },
  "orig_nbformat": 4
 },
 "nbformat": 4,
 "nbformat_minor": 2
}
